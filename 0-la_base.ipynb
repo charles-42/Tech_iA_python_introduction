{
 "cells": [
  {
   "cell_type": "code",
   "execution_count": 5,
   "metadata": {},
   "outputs": [
    {
     "name": "stdout",
     "output_type": "stream",
     "text": [
      "8\n"
     ]
    }
   ],
   "source": [
    "print(a)"
   ]
  },
  {
   "cell_type": "markdown",
   "metadata": {},
   "source": [
    "# La base de la base"
   ]
  },
  {
   "cell_type": "markdown",
   "metadata": {},
   "source": [
    "## Créer et run des programmes"
   ]
  },
  {
   "cell_type": "markdown",
   "metadata": {},
   "source": [
    "on peut fait différentes choses:\n",
    "- des puces\n",
    "- par exemple\n",
    "\n",
    "des choses en `evidence`  \n",
    "on peut mettre en **gras**  \n",
    "ou en italique *il me semble* \n",
    "\n",
    "créer des liens: [le lien](https://docs.google.com/document/d/1SdWOo3k8jIpoTkNbl0I439AhwhcjPa1Q/edit)\n"
   ]
  },
  {
   "cell_type": "markdown",
   "metadata": {},
   "source": [
    "![image](https://interactive-examples.mdn.mozilla.net/media/cc0-images/grapefruit-slice-332-332.jpg)"
   ]
  },
  {
   "cell_type": "markdown",
   "metadata": {},
   "source": [
    "**`Exercice`**: \n",
    "- créer un fichier script intitulé \"hello.py\" écrire \"print(\"Hello from my first script\") le lancer depuis la console puis depuis le terminal\n",
    "- créer un notebook intitulé \"hello.ipynb\" écrire \"print(\"Hello from my first notebook\") dans une cellule puis la lancer"
   ]
  },
  {
   "cell_type": "markdown",
   "metadata": {},
   "source": [
    "## Découvrir les commentaires"
   ]
  },
  {
   "cell_type": "markdown",
   "metadata": {},
   "source": [
    "Ceci est un markdonw"
   ]
  },
  {
   "cell_type": "code",
   "execution_count": 1,
   "metadata": {},
   "outputs": [
    {
     "data": {
      "text/plain": [
       "' Commentaire \\nmulti ligne'"
      ]
     },
     "execution_count": 1,
     "metadata": {},
     "output_type": "execute_result"
    }
   ],
   "source": [
    "# commentaire\n",
    "# ligne\n",
    "# à ligne\n",
    "\n",
    "# bref....\n",
    "\n",
    "\"\"\" Commentaire \n",
    "multi ligne\"\"\""
   ]
  },
  {
   "cell_type": "code",
   "execution_count": null,
   "metadata": {},
   "outputs": [],
   "source": []
  },
  {
   "cell_type": "code",
   "execution_count": 11,
   "metadata": {},
   "outputs": [
    {
     "name": "stdout",
     "output_type": "stream",
     "text": [
      "Help on function f in module __main__:\n",
      "\n",
      "f(x)\n",
      "    cette fonction ajoute 1 à x\n",
      "\n"
     ]
    }
   ],
   "source": [
    "\n",
    "def f(x):\n",
    "    \"\"\" cette fonction ajoute 1 à x\"\"\"\n",
    "    # tu les savais ?\n",
    "    if True:\n",
    "        # ici\n",
    "        print(True)\n",
    "    return x +1\n",
    "\n",
    "help(f)"
   ]
  },
  {
   "cell_type": "markdown",
   "metadata": {},
   "source": [
    "**`Exercice`**: \n",
    "- copier coller les règles de la pep 8 dans votre fichier script en tant que commentaire multiligne et ligne à ligne (essayez les raccourcis et relancer le script)\n",
    "- copier coller les règles de la pep 8 dans une cellule code, faite le meme exercice qui précedement puis copier coller dans un cellule markdown et faire une mise en page correcte"
   ]
  },
  {
   "cell_type": "markdown",
   "metadata": {},
   "source": [
    "# <font color=\"red\"> Règles Pep8 </font>\n",
    "\n",
    "- Pep 8 sur les commentaires.\n",
    "   - **Ecrivez** des phrases complètes, ponctuées et compréhensibles.\n",
    "- Le `commentaire` doit être cohérent avec le code.\n",
    "- Il doit suivre la même indentation que le code qu'il commente.\n",
    "- Evitez d'enfoncer des portes ouvertes : ne décrivez pas le code, expliquez plutôt à quoi il sert.\n",
    "- Il doit être en anglais."
   ]
  }
 ],
 "metadata": {
  "interpreter": {
   "hash": "4822798685b95d90cac6b9eac85a216cd3011e561666c6311e8088bbadca8e0f"
  },
  "kernelspec": {
   "display_name": "Python 3.8.6 64-bit ('3.8.6': pyenv)",
   "name": "python3"
  },
  "language_info": {
   "codemirror_mode": {
    "name": "ipython",
    "version": 3
   },
   "file_extension": ".py",
   "mimetype": "text/x-python",
   "name": "python",
   "nbconvert_exporter": "python",
   "pygments_lexer": "ipython3",
   "version": "3.8.6"
  },
  "orig_nbformat": 4
 },
 "nbformat": 4,
 "nbformat_minor": 2
}
