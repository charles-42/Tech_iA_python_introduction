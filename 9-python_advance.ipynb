{
 "cells": [
  {
   "cell_type": "markdown",
   "metadata": {},
   "source": [
    "# f -strings"
   ]
  },
  {
   "cell_type": "code",
   "execution_count": 15,
   "metadata": {},
   "outputs": [
    {
     "name": "stdout",
     "output_type": "stream",
     "text": [
      "le loup est sur la chaise\n",
      "le loup est sur la chaise\n",
      "le loup est sur la chaise\n",
      "les loups est sur la chaise\n",
      "objet='chaise'\n",
      "chaise\n",
      "'chaise'\n",
      "'chaise'\n",
      "19003.73\n"
     ]
    }
   ],
   "source": [
    "objet = \"chaise\"\n",
    "animal = \"loup\"\n",
    "s = \"s\"\n",
    "\n",
    "chiffre = 19003.728\n",
    "\n",
    "print( \"le \" + animal + \" est sur la \" + objet )\n",
    "print( \"le {} est sur la {}\".format(animal,objet))\n",
    "\n",
    "print( f\"le {animal} est sur la {objet}\")\n",
    "\n",
    "print( f'les {animal + \"s\"} est sur la {objet}')\n",
    "\n",
    "print (f\"{objet=}\")\n",
    "\n",
    "print (f\"{objet!s}\")\n",
    "print (f\"{objet!r}\")\n",
    "print (f\"{objet!a}\")\n",
    "\n",
    "print(f\"{chiffre:.2f}\")"
   ]
  },
  {
   "cell_type": "markdown",
   "metadata": {},
   "source": [
    "# Les compréhension de collection"
   ]
  },
  {
   "cell_type": "markdown",
   "metadata": {},
   "source": [
    "## comprehension de liste"
   ]
  },
  {
   "cell_type": "markdown",
   "metadata": {},
   "source": [
    "La comprehension de liste est une manière de travailler sur les listes"
   ]
  },
  {
   "cell_type": "code",
   "execution_count": 17,
   "metadata": {},
   "outputs": [
    {
     "name": "stdout",
     "output_type": "stream",
     "text": [
      "[64, 400, 1024]\n"
     ]
    }
   ],
   "source": [
    "ma_liste = [3, -4, 8, 7, 20, 32, -9, 21]\n",
    "\n",
    "\n",
    "new_liste = [i**2 for i in ma_liste if i%2 == 0 and i>0]\n",
    "\n",
    "print(new_liste)\n",
    "\n",
    "# liste2 =[]\n",
    "# for i in ma_liste:\n",
    "#     if i >0:\n",
    "#         liste2.append(i)\n",
    "\n",
    "# filtre_nombres_positifs = [i for i in ma_liste if i>0]\n",
    "# print(filtre_nombres_positifs)\n",
    "# # très pratique pour filter\n",
    "\n",
    "# # retourner l'ensemble des carré de ma liste si leur valeur absolue est supérieure à 3\n",
    "# liste_carre = [i**2 for i in ma_liste if abs(i)>3]\n",
    "# print(liste_carre)"
   ]
  },
  {
   "cell_type": "markdown",
   "metadata": {},
   "source": [
    "**`Structure générale d'une comprehesion`**:  \n",
    "[[ceux que j'ajoute à ma liste ],[d'ou elle vient(parcours)][condition]]\n",
    "\n",
    "**`Structure générale d'une comprehesion de liste`**:  \n",
    "[[transformation de i],[for ....][condition]]"
   ]
  },
  {
   "cell_type": "markdown",
   "metadata": {},
   "source": [
    "**`Exercice 1`**: \n",
    "Utilisez la compréhension de liste pour, à partir de la liste ma_liste, renvoyer une nouvelle liste qui pour les nombres pas de la liste initiale, renvoie le nombre impair qui les suit.\n",
    "\n",
    "Exemple \n",
    "- pour : ma_liste = [3, -4, 8, 7, 20, 32, -9, 21]\n",
    "- renvoyer : [9 , 21, 33] "
   ]
  },
  {
   "cell_type": "code",
   "execution_count": null,
   "metadata": {},
   "outputs": [],
   "source": []
  },
  {
   "cell_type": "code",
   "execution_count": 24,
   "metadata": {},
   "outputs": [
    {
     "data": {
      "text/plain": [
       "[5, 9, -7, 23]"
      ]
     },
     "execution_count": 24,
     "metadata": {},
     "output_type": "execute_result"
    }
   ],
   "source": [
    "    ma_liste = [3, -4, 8, 7, 20, 32, -9, 21]\n",
    "    liste_1 = [i+2 for i in ma_liste if i%2!=0]\n",
    "    liste_1"
   ]
  },
  {
   "cell_type": "markdown",
   "metadata": {},
   "source": [
    "**`Exercice 2`**:   \n",
    "Using list comprehension, construct a list from the squares of each element in the list, if the square is greater than 50.  \n",
    "\n",
    "lst1=[2, 4, 6, 8, 10, 12, 14]"
   ]
  },
  {
   "cell_type": "code",
   "execution_count": 25,
   "metadata": {},
   "outputs": [],
   "source": [
    "lst1=[2, 4, 6, 8, 10, 12, 14]\n",
    "\n",
    "list2 = [x**2 for x in lst1 if x**2>50 ]"
   ]
  },
  {
   "cell_type": "markdown",
   "metadata": {},
   "source": [
    "**`Exercice 3`**:   \n",
    "Create a list from the elements of a range from 1200 to 2000 with steps of 130, using list comprehension.  "
   ]
  },
  {
   "cell_type": "code",
   "execution_count": 26,
   "metadata": {},
   "outputs": [
    {
     "data": {
      "text/plain": [
       "[1200, 1330, 1460, 1590, 1720, 1850, 1980]"
      ]
     },
     "execution_count": 26,
     "metadata": {},
     "output_type": "execute_result"
    }
   ],
   "source": [
    "liste = [x for x in range(1200,2000)]\n",
    "liste"
   ]
  },
  {
   "cell_type": "markdown",
   "metadata": {},
   "source": [
    "**`Exercice 4`**:   \n",
    "Given dictionary is consisted of vehicles and their weights in kilograms. Contruct a list of the names of vehicles with weight below 5000 kilograms. In the same list comprehension make the key names all upper case."
   ]
  },
  {
   "cell_type": "code",
   "execution_count": null,
   "metadata": {},
   "outputs": [],
   "source": []
  },
  {
   "cell_type": "markdown",
   "metadata": {},
   "source": [
    "## Ternary Operators (conditionnal expression)"
   ]
  },
  {
   "cell_type": "markdown",
   "metadata": {},
   "source": [
    "Il est possible de défnir en une ligne une variable à l'aide d'une condition"
   ]
  },
  {
   "cell_type": "code",
   "execution_count": 18,
   "metadata": {},
   "outputs": [
    {
     "data": {
      "text/plain": [
       "'notaire'"
      ]
     },
     "execution_count": 18,
     "metadata": {},
     "output_type": "execute_result"
    }
   ],
   "source": [
    "pere = \"notaire\"\n",
    "\n",
    "fils = \"notaire\" if pere==\"notaire\" else \"medecin\" \n",
    "\n",
    "\n",
    "fils"
   ]
  },
  {
   "cell_type": "markdown",
   "metadata": {},
   "source": [
    "Les expressions conditionnelles peuvent être utilisées dans des comprehension de liste"
   ]
  },
  {
   "cell_type": "code",
   "execution_count": 19,
   "metadata": {},
   "outputs": [
    {
     "name": "stdout",
     "output_type": "stream",
     "text": [
      "[4, 8, 20, 32]\n"
     ]
    }
   ],
   "source": [
    "ma_liste = [3, -4, 8, 7, 20, 32, -9, 21]\n",
    "\n",
    "# on cherche à calculer la valeur absolue des nombres paries de la liste précédente.\n",
    "abs_liste = [i if i>0 else -i for i in ma_liste if i%2==0]\n",
    "print(abs_liste)"
   ]
  },
  {
   "cell_type": "markdown",
   "metadata": {},
   "source": [
    "# On peut aller plus loin avec l'écriture en tuple de la forme # suivante:\n",
    "i = (if_test_is_false, if_test_is_true)[test]"
   ]
  },
  {
   "cell_type": "code",
   "execution_count": null,
   "metadata": {},
   "outputs": [],
   "source": []
  },
  {
   "cell_type": "code",
   "execution_count": 21,
   "metadata": {},
   "outputs": [
    {
     "data": {
      "text/plain": [
       "8"
      ]
     },
     "execution_count": 21,
     "metadata": {},
     "output_type": "execute_result"
    }
   ],
   "source": [
    "chiffre = -8\n",
    "valeur_absolue = (-chiffre,chiffre)[chiffre>0]\n",
    "valeur_absolue"
   ]
  },
  {
   "cell_type": "code",
   "execution_count": 22,
   "metadata": {},
   "outputs": [
    {
     "data": {
      "text/plain": [
       "'la vérité'"
      ]
     },
     "execution_count": 22,
     "metadata": {},
     "output_type": "execute_result"
    }
   ],
   "source": [
    "#Exemple simple\n",
    "\n",
    "a = (\"le mensonge\",\"la vérité\")[True]\n",
    "a"
   ]
  },
  {
   "cell_type": "code",
   "execution_count": 131,
   "metadata": {},
   "outputs": [
    {
     "name": "stdout",
     "output_type": "stream",
     "text": [
      "[3, 4, 8, 7, 20, 32, 9, 21]\n"
     ]
    }
   ],
   "source": [
    "# ou encore\n",
    "ma_liste = [3, -4, 8, 7, 20, 32, -9, 21]\n",
    "\n",
    "# on cherche à calculer la valeur absolue des nombres de la liste précédente.\n",
    "abs_liste = [(-i,i)[i>0] for i in ma_liste]\n",
    "print(abs_liste)"
   ]
  },
  {
   "cell_type": "markdown",
   "metadata": {},
   "source": [
    "Cependant cette dernière manière d'écrire est difficile à lire et peu performante (les deux conditions sont calculées). on evitera donc de s'en servir"
   ]
  },
  {
   "cell_type": "markdown",
   "metadata": {},
   "source": [
    "## Comprehension de dicitonnaire"
   ]
  },
  {
   "cell_type": "code",
   "execution_count": 58,
   "metadata": {},
   "outputs": [
    {
     "data": {
      "text/plain": [
       "{'one': 1, 'two': 2, 'three': 3}"
      ]
     },
     "execution_count": 58,
     "metadata": {},
     "output_type": "execute_result"
    }
   ],
   "source": [
    "\"\"\"Il est également possible de faire une compréhension de dictionnaire\"\"\"\n",
    "\n",
    "keys_liste = [\"one\", \"two\", \"three\"]\n",
    "\n",
    "\n",
    "my_dict={keys_liste[i]:i+1 for i in range(0,len(keys_liste))}\n",
    "my_dict\n",
    "\n",
    "my_dict2={}\n",
    "for i in range(0,len(keys_liste)):\n",
    "    my_dict2[keys_liste[i]]= i+1 \n",
    "my_dict2"
   ]
  },
  {
   "cell_type": "markdown",
   "metadata": {},
   "source": [
    "**`Structure générale d'une comprehesion de dictionnaire`**:  \n",
    "[key:value],[for ....][condition]]"
   ]
  },
  {
   "cell_type": "markdown",
   "metadata": {},
   "source": [
    "**`Exercice 1`**:  \n",
    "Create a dictionary from the list with same key:value pairs, such as: {\"key\": \"key\"}."
   ]
  },
  {
   "cell_type": "code",
   "execution_count": 31,
   "metadata": {},
   "outputs": [
    {
     "name": "stdout",
     "output_type": "stream",
     "text": [
      "{'NY': 'NY', 'FL': 'FL', 'CA': 'CA', 'VT': 'VT'}\n"
     ]
    }
   ],
   "source": [
    "lst=[\"NY\", \"FL\", \"CA\", \"VT\"]\n",
    "\n",
    "#Type your answer here.\n",
    "\n",
    "dico = {i:i for i in lst}\n",
    "\n",
    "print(dico)"
   ]
  },
  {
   "cell_type": "markdown",
   "metadata": {},
   "source": [
    "**`Exercice 2`**:   \n",
    "First, create a range from 100 to 160 with steps of 10.\n",
    "Second, using dict comprehension, create a dictionary where each number in the range is the key and each item divided by 100 is the value."
   ]
  },
  {
   "cell_type": "code",
   "execution_count": 32,
   "metadata": {},
   "outputs": [
    {
     "data": {
      "text/plain": [
       "{100: 1.0, 110: 1.1, 120: 1.2, 130: 1.3, 140: 1.4, 150: 1.5}"
      ]
     },
     "execution_count": 32,
     "metadata": {},
     "output_type": "execute_result"
    }
   ],
   "source": [
    "dict = {i:i/100 for i in range(100,160,10)}\n",
    "dict"
   ]
  },
  {
   "cell_type": "markdown",
   "metadata": {},
   "source": [
    "**`Exercice 3`**:   \n",
    "Using dict comprehension and a conditional argument create a dictionary from the current dictionary where only the key:value pairs with value above 2000 are taken to the new dictionary.\n",
    "\n"
   ]
  },
  {
   "cell_type": "code",
   "execution_count": 37,
   "metadata": {},
   "outputs": [
    {
     "name": "stdout",
     "output_type": "stream",
     "text": [
      "NFLX 4950\n",
      "TREX 2400\n",
      "FIZZ 1800\n",
      "XPO 1700\n"
     ]
    }
   ],
   "source": [
    "dict1={\"NFLX\":4950,\"TREX\":2400,\"FIZZ\":1800, \"XPO\":1700}\n",
    "\n",
    "dict2 = { key:value  for key,value in dict1.items() if value>2000}\n",
    "dict2\n",
    "\n",
    "\n"
   ]
  },
  {
   "cell_type": "markdown",
   "metadata": {},
   "source": [
    "**`Exercice 4`**: \n",
    "En utilisant la fonction zip() et la comprehension de dictionnaire, créer un dictionnaire qui prend comme clef les valeurs de la première liste et en valeur les valeurs de la seconde"
   ]
  },
  {
   "cell_type": "code",
   "execution_count": 43,
   "metadata": {},
   "outputs": [
    {
     "data": {
      "text/plain": [
       "{'Netflix': 198, 'Hulu': 166, 'Sling': 237, 'Hbo': 125}"
      ]
     },
     "execution_count": 43,
     "metadata": {},
     "output_type": "execute_result"
    }
   ],
   "source": [
    "lst1=[\"Netflix\", \"Hulu\", \"Sling\", \"Hbo\"]\n",
    "lst2=[198, 166, 237, 125]\n",
    "\n",
    "\n",
    "dico = {x:y for x,y in zip(lst1,lst2)}\n",
    "dico\n",
    "\n",
    "dict(zip(lst1,lst2))"
   ]
  },
  {
   "cell_type": "markdown",
   "metadata": {},
   "source": [
    "# Autres fonctions utiles"
   ]
  },
  {
   "cell_type": "markdown",
   "metadata": {},
   "source": [
    "## La fonction zip"
   ]
  },
  {
   "cell_type": "code",
   "execution_count": 91,
   "metadata": {},
   "outputs": [
    {
     "ename": "ValueError",
     "evalue": "too many values to unpack (expected 2)",
     "output_type": "error",
     "traceback": [
      "\u001b[0;31m---------------------------------------------------------------------------\u001b[0m",
      "\u001b[0;31mValueError\u001b[0m                                Traceback (most recent call last)",
      "\u001b[0;32m/var/folders/py/4rt338cj1ks4z3332m7l3f880000gp/T/ipykernel_3083/1918364953.py\u001b[0m in \u001b[0;36m<module>\u001b[0;34m\u001b[0m\n\u001b[1;32m      5\u001b[0m \u001b[0mmon_zip\u001b[0m \u001b[0;34m=\u001b[0m \u001b[0mzip\u001b[0m\u001b[0;34m(\u001b[0m\u001b[0mlst1\u001b[0m\u001b[0;34m,\u001b[0m\u001b[0mlst2\u001b[0m\u001b[0;34m,\u001b[0m\u001b[0mlst3\u001b[0m\u001b[0;34m)\u001b[0m\u001b[0;34m\u001b[0m\u001b[0;34m\u001b[0m\u001b[0m\n\u001b[1;32m      6\u001b[0m \u001b[0;34m\u001b[0m\u001b[0m\n\u001b[0;32m----> 7\u001b[0;31m \u001b[0mliste1\u001b[0m\u001b[0;34m,\u001b[0m\u001b[0mliste2\u001b[0m \u001b[0;34m=\u001b[0m\u001b[0mzip\u001b[0m\u001b[0;34m(\u001b[0m\u001b[0;34m*\u001b[0m\u001b[0mmon_zip\u001b[0m\u001b[0;34m)\u001b[0m\u001b[0;34m\u001b[0m\u001b[0;34m\u001b[0m\u001b[0m\n\u001b[0m\u001b[1;32m      8\u001b[0m \u001b[0mprint\u001b[0m\u001b[0;34m(\u001b[0m\u001b[0mliste1\u001b[0m\u001b[0;34m)\u001b[0m\u001b[0;34m\u001b[0m\u001b[0;34m\u001b[0m\u001b[0m\n",
      "\u001b[0;31mValueError\u001b[0m: too many values to unpack (expected 2)"
     ]
    }
   ],
   "source": [
    "lst1=[\"Netflix\", \"Hulu\", \"Sling\", \"Hbo\"]\n",
    "lst2=[198, 166, 237, 125]\n",
    "lst3=[True,True,False,True]\n",
    "\n",
    "mon_zip = list(zip(lst1,lst2,lst3))\n",
    "print(mon_zip)\n",
    "\n",
    "# liste1,liste2 =zip(*mon_zip)\n",
    "# print(liste1)"
   ]
  },
  {
   "cell_type": "code",
   "execution_count": 90,
   "metadata": {},
   "outputs": [
    {
     "name": "stdout",
     "output_type": "stream",
     "text": [
      "Netflix198\n",
      "Hulu166\n",
      "Hbo125\n"
     ]
    }
   ],
   "source": [
    "def une_fonction(unstring,unint,unbool):\n",
    "    if unbool:\n",
    "        print(unstring + str(unint))\n",
    "\n",
    "# for i in range(len(lst1)):\n",
    "#     une_fonction(lst1[i],lst2[i],lst3[i])\n",
    "\n",
    "for i in zip(lst1,lst2,lst3):\n",
    "    une_fonction(*i)\n"
   ]
  },
  {
   "cell_type": "markdown",
   "metadata": {},
   "source": [
    "## La fonction enumerate"
   ]
  },
  {
   "cell_type": "markdown",
   "metadata": {},
   "source": [
    "Enumerate est une fonction built in qui permet de parcourir une liste et de créer un compteur automatique sur cette liste"
   ]
  },
  {
   "cell_type": "code",
   "execution_count": 114,
   "metadata": {},
   "outputs": [
    {
     "name": "stdout",
     "output_type": "stream",
     "text": [
      "0 apple\n",
      "1 banana\n",
      "2 grapes\n",
      "3 pear\n"
     ]
    }
   ],
   "source": [
    "my_list = ['apple', 'banana', 'grapes', 'pear']\n",
    "\n",
    "for counter, value in enumerate(my_list):\n",
    "    print(counter, value)\n",
    "\n"
   ]
  },
  {
   "cell_type": "markdown",
   "metadata": {},
   "source": [
    "On peut spécifier à quel indice commence enumerate"
   ]
  },
  {
   "cell_type": "code",
   "execution_count": 115,
   "metadata": {},
   "outputs": [
    {
     "name": "stdout",
     "output_type": "stream",
     "text": [
      "1 apple\n",
      "2 banana\n",
      "3 grapes\n",
      "4 pear\n"
     ]
    }
   ],
   "source": [
    "my_list = ['apple', 'banana', 'grapes', 'pear']\n",
    "for c, value in enumerate(my_list, 1):\n",
    "    print(c, value)"
   ]
  },
  {
   "cell_type": "markdown",
   "metadata": {},
   "source": [
    "**`Exercice 1`**:  \n",
    "A l'aide de enumerate et d'une comprehension de dictionnaire, créer un dictionnaire qui prend pour clef une valeur de la liste et comme valeur cette valeur exprimée en integer"
   ]
  },
  {
   "cell_type": "code",
   "execution_count": 122,
   "metadata": {},
   "outputs": [
    {
     "data": {
      "text/plain": [
       "{'one': 1, 'two': 2, 'three': 3, 'for': 4, 'five': 5}"
      ]
     },
     "execution_count": 122,
     "metadata": {},
     "output_type": "execute_result"
    }
   ],
   "source": [
    "keys_liste = [\"one\", \"two\", \"three\",\"for\",\"five\"]\n"
   ]
  },
  {
   "cell_type": "markdown",
   "metadata": {},
   "source": [
    "**`Exercice 2`**\n",
    "\n",
    "En utilisant la fonction enumerate renvoyer une liste qui rassemble les deux autres listes:"
   ]
  },
  {
   "cell_type": "code",
   "execution_count": 128,
   "metadata": {},
   "outputs": [
    {
     "data": {
      "text/plain": [
       "['az', 'by', 'cx', 'dw']"
      ]
     },
     "execution_count": 128,
     "metadata": {},
     "output_type": "execute_result"
    }
   ],
   "source": [
    "liste1 = [\"a\", \"b\", \"c\", \"d\"]\n",
    "liste2 = [\"z\", \"y\", \"x\", \"w\"]\n",
    "\n",
    "objectif: ['az', 'by', 'cx', 'dw']\n"
   ]
  },
  {
   "cell_type": "markdown",
   "metadata": {},
   "source": [
    "# Pass, break and continue"
   ]
  },
  {
   "cell_type": "markdown",
   "metadata": {},
   "source": [
    "### break"
   ]
  },
  {
   "cell_type": "code",
   "execution_count": 92,
   "metadata": {},
   "outputs": [
    {
     "name": "stdout",
     "output_type": "stream",
     "text": [
      "0\n",
      "encore?\n",
      "1\n",
      "encore?\n",
      "2\n",
      "encore?\n",
      "3\n",
      "encore?\n",
      "4\n",
      "encore?\n"
     ]
    }
   ],
   "source": [
    "for i in range(0,5):\n",
    "    print(i)\n",
    "    print(\"encore?\")"
   ]
  },
  {
   "cell_type": "code",
   "execution_count": 94,
   "metadata": {},
   "outputs": [
    {
     "name": "stdout",
     "output_type": "stream",
     "text": [
      "0\n",
      "encore?\n",
      "1\n",
      "encore?\n",
      "2\n",
      "encore?\n",
      "3\n",
      "encore?\n"
     ]
    }
   ],
   "source": [
    "# break arrete la boucle\n",
    "for i in range(0,5):\n",
    "    print(i)\n",
    "    print(\"encore?\")\n",
    "    if i>2:\n",
    "        break\n",
    "\n",
    "# on s'en sert quand on veut arreter un compteur à une certaine position"
   ]
  },
  {
   "cell_type": "markdown",
   "metadata": {},
   "source": [
    "### pass"
   ]
  },
  {
   "cell_type": "code",
   "execution_count": 100,
   "metadata": {},
   "outputs": [
    {
     "name": "stdout",
     "output_type": "stream",
     "text": [
      "0\n",
      "encore?\n",
      "1\n",
      "encore?\n",
      "2\n",
      "encore?\n",
      "3\n",
      "encore?\n",
      "4\n",
      "encore?\n",
      "on est plus que trois\n"
     ]
    }
   ],
   "source": [
    "# pass de fait rien\n",
    "for i in range(0,5):\n",
    "    print(i)\n",
    "    pass\n",
    "    print(\"encore?\")\n",
    "\n",
    "\"\"\"\n",
    "c'est utile par exemple quand on fait du TDD (test driven dev) et qu'on veut définir\n",
    "nos fonctions sans les coder\n",
    "\"\"\"\n",
    "def f(a):\n",
    "    pass\n",
    "\n",
    "#Cela ne me renvoit pas d'erreur\n",
    "f(2)\n",
    "\n",
    "#on peut s'en servir quand on définit des conditions\n",
    "\n",
    "a = 4\n",
    "if a < 3:\n",
    "    pass\n",
    "else:\n",
    "    print(\"on est plus que trois\")\n",
    "\n",
    "if a >= 3:\n",
    "    print(\"on est plus que trois\")"
   ]
  },
  {
   "cell_type": "markdown",
   "metadata": {},
   "source": [
    "### continue"
   ]
  },
  {
   "cell_type": "code",
   "execution_count": 101,
   "metadata": {},
   "outputs": [
    {
     "name": "stdout",
     "output_type": "stream",
     "text": [
      "0\n",
      "1\n",
      "2\n",
      "3\n",
      "4\n"
     ]
    }
   ],
   "source": [
    "#continue stop le tour de boucle, pour le tour, le reste des indications sont ignorées\n",
    "for i in range(0,5):\n",
    "    print(i)\n",
    "    continue\n",
    "    print(\"encore?\")"
   ]
  },
  {
   "cell_type": "code",
   "execution_count": 102,
   "metadata": {},
   "outputs": [
    {
     "name": "stdout",
     "output_type": "stream",
     "text": [
      "0\n",
      "encore?\n",
      "1\n",
      "encore?\n",
      "2\n",
      "3\n",
      "4\n"
     ]
    }
   ],
   "source": [
    "#Autre exemple:\n",
    "for i in range(0,5):\n",
    "    print(i)\n",
    "    if i >= 2:\n",
    "        continue\n",
    "    print(\"encore?\")"
   ]
  },
  {
   "cell_type": "markdown",
   "metadata": {},
   "source": [
    "# Fonction lambda"
   ]
  },
  {
   "cell_type": "markdown",
   "metadata": {},
   "source": [
    "## Usage général"
   ]
  },
  {
   "cell_type": "code",
   "execution_count": null,
   "metadata": {},
   "outputs": [],
   "source": [
    "On peut définir une fonction anonyme sur une ligne."
   ]
  },
  {
   "cell_type": "code",
   "execution_count": 47,
   "metadata": {},
   "outputs": [
    {
     "name": "stdout",
     "output_type": "stream",
     "text": [
      "6\n",
      "16\n",
      "6\n",
      "6\n",
      "5\n"
     ]
    }
   ],
   "source": [
    "# prennons une fonction\n",
    "def fois_deux(x):\n",
    "    return x*2\n",
    "    \n",
    "print(fois_deux(3))\n",
    "\n",
    "operation = fois_deux\n",
    "print(operation(8))\n",
    "\n",
    "# # on peut la définir sous forme lambda\n",
    "fois_deux_lambda = lambda x: x*2\n",
    "print(fois_deux_lambda(3))\n",
    "\n",
    "# # on n'est meme pas obligé de lui donner un nom\n",
    "print((lambda x: x*2)(3))\n",
    "\n",
    "print((lambda x ,y : x + y)(3,2))\n",
    "\n",
    "print(3+2)"
   ]
  },
  {
   "cell_type": "markdown",
   "metadata": {},
   "source": [
    "Il faut connaitre les fonctions lambdas car on peut les rencontrer dans des codes.\n",
    "Cependant tout ce qu'on peut faire avec une fonction lambda, on peut le faire avec une fonction normale et les deux types de déclaration sont identiques en terme de performance.\n",
    "\n",
    "On utilise donc généralement les fonctions lambdas pour des fonctions courtes et qui ne sont utilisées qu'une seule fois dans un code"
   ]
  },
  {
   "cell_type": "markdown",
   "metadata": {},
   "source": [
    "**`Exercice 1`**  \n",
    "Write a lambda function that takes x as parameter and returns x+2. Then assign it to a variable named L."
   ]
  },
  {
   "cell_type": "code",
   "execution_count": 57,
   "metadata": {},
   "outputs": [
    {
     "data": {
      "text/plain": [
       "9"
      ]
     },
     "execution_count": 57,
     "metadata": {},
     "output_type": "execute_result"
    }
   ],
   "source": [
    "(lambda x : x+2) (7) "
   ]
  },
  {
   "cell_type": "markdown",
   "metadata": {},
   "source": [
    "**`Exercice 2`**  \n",
    "Write a function which takes two arguments: a and b and returns the multiplication of them: a*b. Assign it to a variable named: f."
   ]
  },
  {
   "cell_type": "code",
   "execution_count": 58,
   "metadata": {},
   "outputs": [
    {
     "data": {
      "text/plain": [
       "24"
      ]
     },
     "execution_count": 58,
     "metadata": {},
     "output_type": "execute_result"
    }
   ],
   "source": [
    "(lambda x,y:x*y) (6,4)"
   ]
  },
  {
   "cell_type": "markdown",
   "metadata": {},
   "source": [
    "**`Exercice 3`**  \n",
    "Use the sorted() function to sort the list in ascending order with lambda."
   ]
  },
  {
   "cell_type": "code",
   "execution_count": 59,
   "metadata": {},
   "outputs": [
    {
     "data": {
      "text/plain": [
       "[6, 8, 9, 36]"
      ]
     },
     "execution_count": 59,
     "metadata": {},
     "output_type": "execute_result"
    }
   ],
   "source": [
    "new_list = [8,9,6,36]\n",
    "\n",
    "liste2 = sorted(new_list,key = lambda x:x)\n",
    "liste2"
   ]
  },
  {
   "cell_type": "markdown",
   "metadata": {},
   "source": [
    "**`Exercice 4`**  \n",
    "Using sorted() function and lambda sort the words in the list based on their second letter from a to z.\n"
   ]
  },
  {
   "cell_type": "code",
   "execution_count": 63,
   "metadata": {},
   "outputs": [
    {
     "name": "stdout",
     "output_type": "stream",
     "text": [
      "['rabbit', 'marten', 'whale', 'sheep', 'chipmunk', 'goose', 'fox', 'otter']\n"
     ]
    }
   ],
   "source": [
    "lst=[\"otter\", \"whale\", \"goose\", \"chipmunk\", \"fox\", \"sheep\", \"rabbit\", \"marten\"]\n",
    "\n",
    "lst.sort(key = lambda x:x[1:])\n",
    "\n",
    "print(lst)"
   ]
  },
  {
   "cell_type": "markdown",
   "metadata": {},
   "source": [
    "**`Exercice 5`**  \n",
    "Using sorted() function and lambda sort the tuples in the list based on the last character of the second items.\n"
   ]
  },
  {
   "cell_type": "code",
   "execution_count": 66,
   "metadata": {},
   "outputs": [
    {
     "name": "stdout",
     "output_type": "stream",
     "text": [
      "[(1805832, 'West Virginia'), (39865590, 'California'), (4887871, 'Alabama'), (1420491, 'Hawaii'), (19542209, 'New York'), (626299, 'Vermont')]\n"
     ]
    }
   ],
   "source": [
    "lst=[(19542209, \"New York\") ,(4887871, \"Alabama\"), (1420491, \"Hawaii\"), (626299, \"Vermont\"), (1805832, \"West Virginia\"), (39865590, \"California\")]\n",
    "#Type your answer here.\n",
    "print(sorted(lst, key= lambda x: x[1][::-1]))\n"
   ]
  },
  {
   "cell_type": "markdown",
   "metadata": {},
   "source": [
    "## Fonction map"
   ]
  },
  {
   "cell_type": "markdown",
   "metadata": {},
   "source": [
    "Map applique une fonction à tous les éléments d'une liste, c'est donc assez naturel de s'en servir avec une fonction lambda\n",
    "\n",
    "\n",
    "**`Structure générale`** : map(function_to_apply, list_of_inputs)"
   ]
  },
  {
   "cell_type": "code",
   "execution_count": 50,
   "metadata": {},
   "outputs": [
    {
     "name": "stdout",
     "output_type": "stream",
     "text": [
      "[1, 4, 9, 16, 25]\n",
      "[1, 4, 9, 16, 25]\n"
     ]
    }
   ],
   "source": [
    "\n",
    "def carre(x):\n",
    "    return x**2\n",
    "\n",
    "items = [1, 2, 3, 4, 5]\n",
    "\n",
    "print(list(map( lambda x:x**2 ,items )))\n",
    "print(list(map( carre ,items )))\n"
   ]
  },
  {
   "cell_type": "markdown",
   "metadata": {},
   "source": [
    "**`Exercice 1`**: \n",
    "à l'aide de Map et lambda, ajoutez une majuscule aux éléments de cette liste"
   ]
  },
  {
   "cell_type": "code",
   "execution_count": 67,
   "metadata": {},
   "outputs": [
    {
     "data": {
      "text/plain": [
       "['Alpha', 'Beta', 'Gamma']"
      ]
     },
     "execution_count": 67,
     "metadata": {},
     "output_type": "execute_result"
    }
   ],
   "source": [
    "liste = [\"alpha\", \"beta\", \"gamma\"]\n",
    "list(map(lambda x:x.capitalize() , liste))"
   ]
  },
  {
   "cell_type": "markdown",
   "metadata": {},
   "source": [
    "**`Exercice 2`**: à l'aide de Map et lambda, renvoyez une liste des arrondis"
   ]
  },
  {
   "cell_type": "code",
   "execution_count": 69,
   "metadata": {},
   "outputs": [
    {
     "data": {
      "text/plain": [
       "[4, 8, 5, 9]"
      ]
     },
     "execution_count": 69,
     "metadata": {},
     "output_type": "execute_result"
    }
   ],
   "source": [
    "liste = [3.8 , 8.5 , 5.0 , 9.3]\n",
    "\n",
    "list(map(lambda x: round(x),liste))"
   ]
  },
  {
   "cell_type": "markdown",
   "metadata": {},
   "source": [
    "## Fonction filter"
   ]
  },
  {
   "cell_type": "markdown",
   "metadata": {},
   "source": [
    "Filter permet de filter les valeurs d'une liste:\n",
    "\n",
    "**`Structure générale`** : filter(fonction_de_filtre, liste_a_filtrer)"
   ]
  },
  {
   "cell_type": "code",
   "execution_count": 51,
   "metadata": {},
   "outputs": [
    {
     "name": "stdout",
     "output_type": "stream",
     "text": [
      "[-4, -2, 0, 2, 4]\n"
     ]
    }
   ],
   "source": [
    "number_list = range(-5, 5)\n",
    "\n",
    "print(list(filter( lambda x : x%2 == 0   ,number_list)))"
   ]
  },
  {
   "cell_type": "markdown",
   "metadata": {},
   "source": [
    "**`Exercice 1`**: en une ligne revoyer uniquement les prénoms de 4 lettres ou moins"
   ]
  },
  {
   "cell_type": "code",
   "execution_count": 70,
   "metadata": {},
   "outputs": [
    {
     "data": {
      "text/plain": [
       "['Fred', 'Zoé', 'Paul']"
      ]
     },
     "execution_count": 70,
     "metadata": {},
     "output_type": "execute_result"
    }
   ],
   "source": [
    "liste = [\"Bernard\", \"Fred\", \"Alain\", \"Zoé\", \"Cléroncle\", \"Denis\", \"Paul\"]\n",
    "\n",
    "list(filter( lambda x: len(x)<=4, liste))"
   ]
  },
  {
   "cell_type": "markdown",
   "metadata": {},
   "source": [
    "**`Exercice 2`**: en une ligne renvoyer (en utilisant filter) uniquement les chiffres dont la première valeurs après la virgule est supérieur  ou égale à 7\n"
   ]
  },
  {
   "cell_type": "code",
   "execution_count": 79,
   "metadata": {},
   "outputs": [
    {
     "data": {
      "text/plain": [
       "[3.789, 28.965, 1098.99]"
      ]
     },
     "execution_count": 79,
     "metadata": {},
     "output_type": "execute_result"
    }
   ],
   "source": [
    "liste = [3.789, 34.34, 28.965, 0.22, 4.674, 1098.99]\n",
    "\n",
    "#list(filter( lambda x:  int(str(x))[2]>7, liste  ))\n",
    "\n",
    "\n",
    "list(filter( lambda x: x-int(x)>=0.7, liste  ))\n",
    "list(filter( lambda x: x%1 >=0.7, liste))\n",
    "\n",
    "\n",
    "list(filter( lambda x: int(str(x)[str(x).find(\".\")+1])>=7, liste))"
   ]
  },
  {
   "cell_type": "markdown",
   "metadata": {},
   "source": [
    "## Fonction reduce"
   ]
  },
  {
   "cell_type": "markdown",
   "metadata": {},
   "source": [
    "Reduce permet d'effectuer une opération sur les éléments d'une liste\n",
    "\n",
    "**`Structure générale`**  \n",
    "reduce(fonction à appliquer, liste)"
   ]
  },
  {
   "cell_type": "code",
   "execution_count": 56,
   "metadata": {},
   "outputs": [
    {
     "data": {
      "text/plain": [
       "105"
      ]
     },
     "execution_count": 56,
     "metadata": {},
     "output_type": "execute_result"
    }
   ],
   "source": [
    "from functools import reduce\n",
    "\n",
    "liste = [2,3,4,5,6,9,76]\n",
    "\n",
    "reduce(lambda x,y: x+y , liste)\n"
   ]
  },
  {
   "cell_type": "markdown",
   "metadata": {},
   "source": [
    "**`Exercice 1`**:   \n",
    "renvoyer le produit des carrés de la liste suivante"
   ]
  },
  {
   "cell_type": "code",
   "execution_count": 84,
   "metadata": {},
   "outputs": [
    {
     "name": "stdout",
     "output_type": "stream",
     "text": [
      "14745600\n",
      "14745600\n",
      "220\n"
     ]
    }
   ],
   "source": [
    "liste = [2, 4, 6, 8, 10]\n",
    "\n",
    "\n",
    "reduce(lambda x,y: x**2 * y**2, liste)\n",
    "\n",
    "((4 * 16)**2 * 36)**2 \n",
    "\n",
    "\n",
    "\n",
    "print(reduce(lambda x,y: x*y**2, liste ))\n",
    "\n",
    "((1 * 2**2) * 16) * 36\n",
    "\n",
    "print(4*16*36*64*100 )\n",
    "\n",
    "\n",
    "# somme des carré\n",
    "\n",
    "print(reduce(lambda x,y: x + y**2, liste , 0 ))"
   ]
  },
  {
   "cell_type": "code",
   "execution_count": 86,
   "metadata": {},
   "outputs": [
    {
     "name": "stdout",
     "output_type": "stream",
     "text": [
      "cha\n"
     ]
    }
   ],
   "source": [
    "#Exercice 2\n",
    "# Ecrire l'équivalent de la méthode \"\".join() en utilisant la fonction reduce.\n",
    "liste =[\"c\",\"h\",\"a\"]\n",
    "\n",
    "reduce(lambda x,y : x+y , liste)\n",
    "\n",
    "print(\"\".join(liste))"
   ]
  },
  {
   "cell_type": "markdown",
   "metadata": {},
   "source": [
    "# Try Except"
   ]
  },
  {
   "cell_type": "code",
   "execution_count": null,
   "metadata": {},
   "outputs": [],
   "source": [
    "Le bloc try except permet de poursuivre l'execution d'un code malgré une erreur"
   ]
  },
  {
   "cell_type": "code",
   "execution_count": 180,
   "metadata": {},
   "outputs": [
    {
     "name": "stdout",
     "output_type": "stream",
     "text": [
      "a est deux fois plus grand que b\n",
      "c'est déja la fin de cette fonction\n"
     ]
    },
    {
     "ename": "ZeroDivisionError",
     "evalue": "division by zero",
     "output_type": "error",
     "traceback": [
      "\u001b[0;31m---------------------------------------------------------------------------\u001b[0m",
      "\u001b[0;31mZeroDivisionError\u001b[0m                         Traceback (most recent call last)",
      "\u001b[0;32m/var/folders/py/4rt338cj1ks4z3332m7l3f880000gp/T/ipykernel_3083/3681299474.py\u001b[0m in \u001b[0;36m<module>\u001b[0;34m\u001b[0m\n\u001b[1;32m      5\u001b[0m \u001b[0;34m\u001b[0m\u001b[0m\n\u001b[1;32m      6\u001b[0m \u001b[0mdivision1\u001b[0m\u001b[0;34m(\u001b[0m\u001b[0;36m8\u001b[0m\u001b[0;34m,\u001b[0m\u001b[0;36m4\u001b[0m\u001b[0;34m)\u001b[0m\u001b[0;34m\u001b[0m\u001b[0;34m\u001b[0m\u001b[0m\n\u001b[0;32m----> 7\u001b[0;31m \u001b[0mdivision1\u001b[0m\u001b[0;34m(\u001b[0m\u001b[0;36m8\u001b[0m\u001b[0;34m,\u001b[0m\u001b[0;36m0\u001b[0m\u001b[0;34m)\u001b[0m\u001b[0;34m\u001b[0m\u001b[0;34m\u001b[0m\u001b[0m\n\u001b[0m",
      "\u001b[0;32m/var/folders/py/4rt338cj1ks4z3332m7l3f880000gp/T/ipykernel_3083/3681299474.py\u001b[0m in \u001b[0;36mdivision1\u001b[0;34m(a, b)\u001b[0m\n\u001b[1;32m      1\u001b[0m \u001b[0;32mdef\u001b[0m \u001b[0mdivision1\u001b[0m\u001b[0;34m(\u001b[0m\u001b[0ma\u001b[0m\u001b[0;34m,\u001b[0m\u001b[0mb\u001b[0m\u001b[0;34m)\u001b[0m\u001b[0;34m:\u001b[0m\u001b[0;34m\u001b[0m\u001b[0;34m\u001b[0m\u001b[0m\n\u001b[0;32m----> 2\u001b[0;31m     \u001b[0;32mif\u001b[0m \u001b[0ma\u001b[0m\u001b[0;34m/\u001b[0m\u001b[0mb\u001b[0m \u001b[0;34m>=\u001b[0m \u001b[0;36m2\u001b[0m\u001b[0;34m:\u001b[0m\u001b[0;34m\u001b[0m\u001b[0;34m\u001b[0m\u001b[0m\n\u001b[0m\u001b[1;32m      3\u001b[0m         \u001b[0mprint\u001b[0m\u001b[0;34m(\u001b[0m\u001b[0;34m\"a est deux fois plus grand que b\"\u001b[0m\u001b[0;34m)\u001b[0m\u001b[0;34m\u001b[0m\u001b[0;34m\u001b[0m\u001b[0m\n\u001b[1;32m      4\u001b[0m     \u001b[0mprint\u001b[0m\u001b[0;34m(\u001b[0m\u001b[0;34m\"c'est déja la fin de cette fonction\"\u001b[0m\u001b[0;34m)\u001b[0m\u001b[0;34m\u001b[0m\u001b[0;34m\u001b[0m\u001b[0m\n\u001b[1;32m      5\u001b[0m \u001b[0;34m\u001b[0m\u001b[0m\n",
      "\u001b[0;31mZeroDivisionError\u001b[0m: division by zero"
     ]
    }
   ],
   "source": [
    "def division1(a,b):\n",
    "    if a/b >= 2:\n",
    "        print(\"a est deux fois plus grand que b\")\n",
    "    print(\"c'est déja la fin de cette fonction\")\n",
    "\n",
    "division1(8,4)\n",
    "division1(8,0)"
   ]
  },
  {
   "cell_type": "code",
   "execution_count": 182,
   "metadata": {},
   "outputs": [
    {
     "name": "stdout",
     "output_type": "stream",
     "text": [
      "------------division3(8,2)--------------\n",
      "a est deux fois plus grand que b\n",
      "c'est déja la fin de cette fonction\n",
      "------------division3(8,'a')------------\n",
      "unsupported operand type(s) for /: 'int' and 'str'\n",
      "c'est déja la fin de cette fonction\n",
      "------------division3(8,0)--------------\n",
      "division by zero\n",
      "c'est déja la fin de cette fonction\n"
     ]
    }
   ],
   "source": [
    "def division2(a,b):\n",
    "    try:\n",
    "        if a/b >= 2:\n",
    "            print(\"a est deux fois plus grand que b\")    \n",
    "    except Exception as e:\n",
    "        print(e)\n",
    "    print(\"c'est déja la fin de cette fonction\")\n",
    "\n",
    "print(\"------------division2(8,2)--------------\")\n",
    "division2(8,2)\n",
    "print(\"------------division2(8,'a')------------\")\n",
    "division2(8,\"a\")\n",
    "print(\"------------division2(8,0)--------------\")\n",
    "division2(8,0)"
   ]
  },
  {
   "cell_type": "code",
   "execution_count": 181,
   "metadata": {},
   "outputs": [
    {
     "name": "stdout",
     "output_type": "stream",
     "text": [
      "------------division3(8,2)--------------\n",
      "a est deux fois plus grand que b. PS: tout c'est bien passé\n",
      "c'est déja la fin de cette fonction\n",
      "------------division3(8,'a')------------\n",
      "unsupported operand type(s) for /: 'int' and 'str' Les données envoyées ne sont pas du bon type\n",
      "c'est déja la fin de cette fonction\n",
      "------------division3(8,0)--------------\n",
      "division by zero Tu essaies de diviser par 0, c'est impossible\n",
      "c'est déja la fin de cette fonction\n"
     ]
    }
   ],
   "source": [
    "def division3(a,b):\n",
    "    try:\n",
    "        if a/b >= 2:\n",
    "            pass   \n",
    "    except TypeError as e:\n",
    "        print(e ,\"Les données envoyées ne sont pas du bon type\")\n",
    "    except ZeroDivisionError as e:\n",
    "        print(e ,\"Tu essaies de diviser par 0, c'est impossible\") \n",
    "    except:\n",
    "        print(\"vous venez de rencontrer une erreur inconnue\")\n",
    "    else:\n",
    "        print(\"a est deux fois plus grand que b. PS: tout c'est bien passé\") \n",
    "    finally:   \n",
    "        print(\"c'est déja la fin de cette fonction\")\n",
    "\n",
    "print(\"------------division3(8,2)--------------\")\n",
    "division3(8,2)\n",
    "print(\"------------division3(8,'a')------------\")\n",
    "division3(8,\"a\")\n",
    "print(\"------------division3(8,0)--------------\")\n",
    "division3(8,0)"
   ]
  },
  {
   "cell_type": "code",
   "execution_count": null,
   "metadata": {},
   "outputs": [],
   "source": [
    "# try except dans la vraie vie:\n",
    "\n",
    "try:\n",
    "    with open(path_to_file,\"r\") as f:\n",
    "        preview = f.readline()\n",
    "        print(\"Yeah! We managed to read the file. Here is a preview:\")\n",
    "        print(preview)\n",
    "except FileNotFoundError as e:\n",
    "    print(\"Ow :( The file was not found. Here is the original message of the exception :\", e)\n",
    "except:\n",
    "    print('Destination unknown')"
   ]
  },
  {
   "cell_type": "markdown",
   "metadata": {},
   "source": [
    "# Variables globales ou locale"
   ]
  },
  {
   "cell_type": "code",
   "execution_count": 2,
   "metadata": {},
   "outputs": [
    {
     "name": "stdout",
     "output_type": "stream",
     "text": [
      "10\n",
      "variable dangeureuse 11\n",
      "7\n",
      "varialbe globale modifiée dangereusement 9\n",
      "16\n"
     ]
    }
   ],
   "source": [
    "# Quand on définie une variable, par défaut elle est globale\n",
    "\n",
    "variable_globale = 7\n",
    "\n",
    "# on peut s'en servir dans une fonction mais ce n'est pas une bonne pratique.\n",
    "def fonction(x):\n",
    "    return x + variable_globale\n",
    "\n",
    "print(fonction(3)) \n",
    "#10\n",
    "\n",
    "# A l'inverse quand on définit une variable dans une fonction, elle est par défaut locale\n",
    "# ça veut dire qu'on ne peut pas y accéder de l'extérieur\n",
    "\n",
    "def fonction2():\n",
    "    variable_locale = 2\n",
    "\n",
    "fonction2()\n",
    "#print(\"variable_locale\", variable_locale)\n",
    "# erreur\n",
    "\n",
    "# Il est possible de définir une variable globale à l'intérieur d'une fonction\n",
    "# Mais c'est générale une mauvaise idée\n",
    "\n",
    "def fonction3():\n",
    "    global variable_dangeureuse \n",
    "    variable_dangeureuse = 11\n",
    "\n",
    "fonction3()\n",
    "print(\"variable dangeureuse\", variable_dangeureuse)\n",
    "\n",
    "# De même on ne peut pas modifier une variable globale à l'intérieur d'une foncion\n",
    "def fonction4():\n",
    "    variable_globale+=2\n",
    "\n",
    "#fonction4()\n",
    "# erreur\n",
    "\n",
    "# même si on lui donne en argument les modifications ne seront pas prises en comptes\n",
    "\n",
    "def fonction5(var):\n",
    "     var+=2\n",
    "\n",
    "fonction5(variable_globale)\n",
    "print(variable_globale)\n",
    "\n",
    "\n",
    "# A moins de nouveau d'utiliser le mot global mais c'est généralement une mauvaise idée\n",
    "\n",
    "def fonction6():\n",
    "    global variable_globale\n",
    "    variable_globale+=2\n",
    "\n",
    "fonction6()\n",
    "print(\"varialbe globale modifiée dangereusement\", variable_globale)\n",
    "\n",
    "# La bonne manière pour modifier une variable globale dans une fonction est celle ci:\n",
    "\n",
    "def fonction7(var):\n",
    "    return var + 7\n",
    "\n",
    "variable_globale = fonction7(variable_globale)\n",
    "print(variable_globale)\n",
    "\n"
   ]
  }
 ],
 "metadata": {
  "interpreter": {
   "hash": "4822798685b95d90cac6b9eac85a216cd3011e561666c6311e8088bbadca8e0f"
  },
  "kernelspec": {
   "display_name": "Python 3.8.6 64-bit ('3.8.6': pyenv)",
   "name": "python3"
  },
  "language_info": {
   "codemirror_mode": {
    "name": "ipython",
    "version": 3
   },
   "file_extension": ".py",
   "mimetype": "text/x-python",
   "name": "python",
   "nbconvert_exporter": "python",
   "pygments_lexer": "ipython3",
   "version": "3.8.6"
  },
  "orig_nbformat": 4
 },
 "nbformat": 4,
 "nbformat_minor": 2
}
